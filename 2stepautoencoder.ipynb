{
 "cells": [
  {
   "cell_type": "code",
   "execution_count": 1,
   "id": "b4d3d9fe-6a0e-4b55-8ad5-77c0638e1a97",
   "metadata": {},
   "outputs": [],
   "source": [
    "from models.twopartslstmautoencoder import LSTMAutoencoder\n",
    "from utils.loaders import SigGenDatasetSplit\n",
    "from utils.trainers import BaseTrainer, TwoStepTrainer\n",
    "import torch\n",
    "from torch.utils.data import DataLoader\n",
    "import numpy as np\n",
    "from sklearn.cluster import KMeans\n",
    "from sklearn.metrics import confusion_matrix, accuracy_score\n",
    "from sklearn.datasets import make_classification\n",
    "import pandas as pd\n",
    "import matplotlib.pyplot as plt\n",
    "import seaborn as sns\n",
    "import os, glob"
   ]
  },
  {
   "cell_type": "code",
   "execution_count": 2,
   "id": "a1aa17b2-3af6-42cd-b567-8e5eb825a876",
   "metadata": {},
   "outputs": [],
   "source": [
    "files = []\n",
    "for file in glob.glob(\"SigGen/*.mat\"):\n",
    "    files.append(str(file))\n",
    "    \n",
    "files.sort()"
   ]
  },
  {
   "cell_type": "code",
   "execution_count": 3,
   "id": "c4978aaf-bdfb-4b97-a26a-0a7eb4a9eca5",
   "metadata": {},
   "outputs": [],
   "source": [
    "model = LSTMAutoencoder(input_dim=1,latent_dim=128, num_layers=4, seq_length=5000).to(\"cuda\")\n",
    "dataset = SigGenDatasetSplit(files, phase = \"train\")\n",
    "trainers = BaseTrainer(model)"
   ]
  },
  {
   "cell_type": "code",
   "execution_count": 4,
   "id": "1e52832f-9963-4e46-bfc5-06186a7fbdc3",
   "metadata": {},
   "outputs": [
    {
     "data": {
      "text/plain": [
       "<All keys matched successfully>"
      ]
     },
     "execution_count": 4,
     "metadata": {},
     "output_type": "execute_result"
    }
   ],
   "source": [
    "# model = trainers._train(train_loader = dataset, num_epochs = 10, loss_function=torch.nn.MSELoss())\n",
    "model.load_state_dict(torch.load(\"2_step_weights_start.pt\"))"
   ]
  },
  {
   "cell_type": "code",
   "execution_count": 5,
   "id": "d24f6b18-d513-4216-890d-1d10b299d603",
   "metadata": {},
   "outputs": [],
   "source": [
    "torch.save(model.state_dict(), \"2_step_weights_start.pt\")"
   ]
  },
  {
   "cell_type": "code",
   "execution_count": 6,
   "id": "ab27e9aa-c9c0-4536-aae5-5d90cb651ddd",
   "metadata": {
    "tags": []
   },
   "outputs": [],
   "source": [
    "# latent, target = trainers.extract_latent(dataset)"
   ]
  },
  {
   "cell_type": "code",
   "execution_count": 16,
   "id": "528fae2a-d408-4cf1-9e75-a094674493a6",
   "metadata": {
    "tags": []
   },
   "outputs": [],
   "source": [
    "means = []\n",
    "\n",
    "for i in range(4):\n",
    "    means.append(latent[target == i])\n",
    "    means[-1] = np.mean(means[-1], axis=0)"
   ]
  },
  {
   "cell_type": "code",
   "execution_count": 8,
   "id": "2393a6bc-c4ae-4551-95fa-17c791e5e0ec",
   "metadata": {
    "tags": []
   },
   "outputs": [],
   "source": [
    "encoder = model.encoder"
   ]
  },
  {
   "cell_type": "code",
   "execution_count": 17,
   "id": "18568e27-b916-43ae-be6c-8eb3f92936ae",
   "metadata": {
    "tags": []
   },
   "outputs": [],
   "source": [
    "dataset_new = SigGenDatasetSplit(files, phase = \"train\", means = means)\n",
    "trainers_new = TwoStepTrainer(encoder)"
   ]
  },
  {
   "cell_type": "code",
   "execution_count": 25,
   "id": "33e5f7cb-35b7-4fbf-a7f2-36b29d124b8c",
   "metadata": {
    "tags": []
   },
   "outputs": [
    {
     "data": {
      "text/plain": [
       "<All keys matched successfully>"
      ]
     },
     "execution_count": 25,
     "metadata": {},
     "output_type": "execute_result"
    }
   ],
   "source": [
    "# encoder = trainers_new._train2(train_loader = dataset_new, num_epochs = 10, loss_function=torch.nn.MSELoss())\n",
    "encoder.load_state_dict(torch.load(\"2_step_weights_1.pt\"))"
   ]
  },
  {
   "cell_type": "code",
   "execution_count": 20,
   "id": "2ec1e6eb-edce-40c7-96c0-b4d4b882570b",
   "metadata": {
    "tags": []
   },
   "outputs": [],
   "source": [
    "# torch.save(encoder.state_dict(), \"2_step_weights_2.pt\")"
   ]
  },
  {
   "cell_type": "code",
   "execution_count": 26,
   "id": "ec7b2101-912c-4deb-a1e9-2f57e43d2b3c",
   "metadata": {
    "tags": []
   },
   "outputs": [
    {
     "name": "stdout",
     "output_type": "stream",
     "text": [
      "Time : 16.866720853024162\n",
      "=============================\n"
     ]
    }
   ],
   "source": [
    "dataset_test = SigGenDatasetSplit(files, phase = \"test\")\n",
    "\n",
    "latent, target = trainers_new.extract_latent(dataset_test)"
   ]
  },
  {
   "cell_type": "code",
   "execution_count": 27,
   "id": "fd5d83cb-dda1-42cc-a969-3660f0151e0e",
   "metadata": {
    "tags": []
   },
   "outputs": [
    {
     "name": "stderr",
     "output_type": "stream",
     "text": [
      "/usr/local/lib/python3.8/dist-packages/sklearn/cluster/_kmeans.py:870: FutureWarning: The default value of `n_init` will change from 10 to 'auto' in 1.4. Set the value of `n_init` explicitly to suppress the warning\n",
      "  warnings.warn(\n"
     ]
    },
    {
     "name": "stdout",
     "output_type": "stream",
     "text": [
      "Cluster Accuracy: 0.56\n"
     ]
    }
   ],
   "source": [
    "from sklearn.cluster import KMeans\n",
    "from sklearn.metrics import confusion_matrix, accuracy_score\n",
    "from sklearn.datasets import make_classification\n",
    "import pandas as pd\n",
    "\n",
    "# Load or create your dataset\n",
    "# Replace this with your actual data loading\n",
    "\n",
    "# Initialize and fit k-Means clustering\n",
    "n_clusters = 4\n",
    "kmeans = KMeans(n_clusters=n_clusters, random_state=42)\n",
    "clusters = kmeans.fit_predict(latent)\n",
    "\n",
    "# Create a confusion matrix to evaluate clustering performance\n",
    "# We need to compute a mapping between cluster labels and true labels\n",
    "# First, create a confusion matrix to find out how clusters are mapped to true labels\n",
    "conf_matrix = confusion_matrix(target, clusters)\n",
    "\n",
    "# Find the optimal permutation of cluster labels to match true labels\n",
    "from scipy.optimize import linear_sum_assignment\n",
    "\n",
    "# Solve the linear sum assignment problem\n",
    "row_ind, col_ind = linear_sum_assignment(-conf_matrix)\n",
    "\n",
    "# Re-map clusters to the true labels\n",
    "cluster_to_label = dict(zip(col_ind, row_ind))\n",
    "\n",
    "# Map clusters to labels\n",
    "y_pred_mapped = np.array([cluster_to_label[cluster] for cluster in clusters])\n",
    "\n",
    "# Compute accuracy\n",
    "accuracy = accuracy_score(target, y_pred_mapped)\n",
    "print(f\"Cluster Accuracy: {accuracy:.2f}\")"
   ]
  },
  {
   "cell_type": "code",
   "execution_count": 28,
   "id": "326e3d69-11f1-4bae-8fd5-eda86901be69",
   "metadata": {
    "tags": []
   },
   "outputs": [
    {
     "data": {
      "image/png": "[encoded data removed]",
      "text/plain": [
       "<Figure size 1000x700 with 2 Axes>"
      ]
     },
     "metadata": {},
     "output_type": "display_data"
    }
   ],
   "source": [
    "import pandas as pd\n",
    "import matplotlib.pyplot as plt\n",
    "import seaborn as sns\n",
    "import os\n",
    "# Create a DataFrame for the confusion matrix\n",
    "conf_matrix_df = pd.DataFrame(conf_matrix, \n",
    "                              index=[f'True_{i}' for i in range(conf_matrix.shape[0])],\n",
    "                              columns=[f'Cluster_{i}' for i in range(conf_matrix.shape[1])])\n",
    "\n",
    "\n",
    "# Plot the confusion matrix using a heatmap\n",
    "plt.figure(figsize=(10, 7))\n",
    "sns.heatmap(conf_matrix_df, annot=True, fmt='d', cmap='Blues', cbar=True)\n",
    "plt.title(f'All Waveforms KMeans - Accuracy {accuracy:.2f}')\n",
    "plt.xlabel('Predicted Cluster')\n",
    "plt.ylabel('True Label')\n",
    "\n",
    "file_path = os.path.join('confusion_matrix', \"all_confusion_matrix_heatmap_2step_1_test.png\")\n",
    "\n",
    "plt.savefig(file_path, dpi=300)\n",
    "\n",
    "plt.show()"
   ]
  },
  {
   "cell_type": "code",
   "execution_count": null,
   "id": "04d23c16-534b-4ae8-9d76-c0e322da9278",
   "metadata": {},
   "outputs": [],
   "source": []
  }
 ],
 "metadata": {
  "kernelspec": {
   "display_name": "Python 3 (ipykernel)",
   "language": "python",
   "name": "python3"
  },
  "language_info": {
   "codemirror_mode": {
    "name": "ipython",
    "version": 3
   },
   "file_extension": ".py",
   "mimetype": "text/x-python",
   "name": "python",
   "nbconvert_exporter": "python",
   "pygments_lexer": "ipython3",
   "version": "3.8.10"
  }
 },
 "nbformat": 4,
 "nbformat_minor": 5
}
