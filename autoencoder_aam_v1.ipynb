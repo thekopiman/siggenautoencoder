{
 "cells": [
  {
   "cell_type": "code",
   "execution_count": 1,
   "id": "599ab317-128a-4501-9c42-5666fbf49d43",
   "metadata": {
    "tags": []
   },
   "outputs": [],
   "source": [
    "from models.lstmaamautoencoder import LSTMAAMAutoencoder\n",
    "from utils.loaders import SigGenDataset\n",
    "from utils.trainers import AAMTrainer\n",
    "import torch\n",
    "from torch.utils.data import DataLoader\n",
    "import numpy as np\n",
    "from sklearn.cluster import KMeans\n",
    "from sklearn.metrics import confusion_matrix, accuracy_score\n",
    "from sklearn.datasets import make_classification\n",
    "import pandas as pd\n",
    "import matplotlib.pyplot as plt\n",
    "import seaborn as sns\n",
    "import os, glob"
   ]
  },
  {
   "cell_type": "code",
   "execution_count": 2,
   "id": "1e867f24-34e5-4e80-967d-81c7d983e6a3",
   "metadata": {},
   "outputs": [],
   "source": [
    "files = []\n",
    "for file in glob.glob(\"SigGen/*.mat\"):\n",
    "    files.append(str(file))\n",
    "    \n",
    "files.sort()"
   ]
  },
  {
   "cell_type": "code",
   "execution_count": 3,
   "id": "6c05e6ab-15cc-4bd1-ae21-4022599c720b",
   "metadata": {
    "tags": []
   },
   "outputs": [],
   "source": [
    "model = LSTMAAMAutoencoder(input_dim=1,latent_dim=128, num_layers=4).to(\"cuda\")\n",
    "dataset = SigGenDataset(files)\n",
    "trainers = AAMTrainer(model)"
   ]
  },
  {
   "cell_type": "code",
   "execution_count": null,
   "id": "f042b9d9-0b93-4b56-a3b0-56c5daaf731f",
   "metadata": {},
   "outputs": [
    {
     "name": "stdout",
     "output_type": "stream",
     "text": [
      "Epoch: 0/9\n",
      "-----------------------------\n"
     ]
    }
   ],
   "source": [
    "# model = trainers._train(train_loader = dataset, num_epochs = 10, loss_function=torch.nn.MSELoss(), batch_size = 5)\n",
    "model.load_state_dict(torch.load(\"all_waveforms_aam_weights.pt\"))"
   ]
  },
  {
   "cell_type": "code",
   "execution_count": null,
   "id": "038996ff-c831-4ff0-80df-66fceffa89b4",
   "metadata": {
    "tags": []
   },
   "outputs": [],
   "source": [
    "torch.save(model.state_dict(), \"all_waveforms_aam_weights.pt\")"
   ]
  },
  {
   "cell_type": "code",
   "execution_count": null,
   "id": "c60a9ac2-b8bb-4678-94ba-e1efeef972b3",
   "metadata": {
    "tags": []
   },
   "outputs": [],
   "source": [
    "latent, target = trainers.extract_latent(dataset)"
   ]
  },
  {
   "cell_type": "code",
   "execution_count": null,
   "id": "8bfddb31-1a8d-4374-8be0-3892d939ec39",
   "metadata": {
    "tags": []
   },
   "outputs": [],
   "source": [
    "from sklearn.cluster import KMeans\n",
    "from sklearn.metrics import confusion_matrix, accuracy_score\n",
    "from sklearn.datasets import make_classification\n",
    "import pandas as pd\n",
    "\n",
    "# Load or create your dataset\n",
    "# Replace this with your actual data loading\n",
    "\n",
    "# Initialize and fit k-Means clustering\n",
    "n_clusters = 4\n",
    "kmeans = KMeans(n_clusters=n_clusters, random_state=42)\n",
    "clusters = kmeans.fit_predict(latent)\n",
    "\n",
    "# Create a confusion matrix to evaluate clustering performance\n",
    "# We need to compute a mapping between cluster labels and true labels\n",
    "# First, create a confusion matrix to find out how clusters are mapped to true labels\n",
    "conf_matrix = confusion_matrix(target, clusters)\n",
    "\n",
    "# Find the optimal permutation of cluster labels to match true labels\n",
    "from scipy.optimize import linear_sum_assignment\n",
    "\n",
    "# Solve the linear sum assignment problem\n",
    "row_ind, col_ind = linear_sum_assignment(-conf_matrix)\n",
    "\n",
    "# Re-map clusters to the true labels\n",
    "cluster_to_label = dict(zip(col_ind, row_ind))\n",
    "\n",
    "# Map clusters to labels\n",
    "y_pred_mapped = np.array([cluster_to_label[cluster] for cluster in clusters])\n",
    "\n",
    "# Compute accuracy\n",
    "accuracy = accuracy_score(target, y_pred_mapped)\n",
    "print(f\"Cluster Accuracy: {accuracy:.2f}\")\n"
   ]
  },
  {
   "cell_type": "code",
   "execution_count": null,
   "id": "28ff9b1d-570e-4349-ba76-26e4e8ba2185",
   "metadata": {
    "tags": []
   },
   "outputs": [],
   "source": [
    "import pandas as pd\n",
    "import matplotlib.pyplot as plt\n",
    "import seaborn as sns\n",
    "import os\n",
    "# Create a DataFrame for the confusion matrix\n",
    "conf_matrix_df = pd.DataFrame(conf_matrix, \n",
    "                              index=[f'True_{i}' for i in range(conf_matrix.shape[0])],\n",
    "                              columns=[f'Cluster_{i}' for i in range(conf_matrix.shape[1])])\n",
    "\n",
    "\n",
    "# Plot the confusion matrix using a heatmap\n",
    "plt.figure(figsize=(10, 7))\n",
    "sns.heatmap(conf_matrix_df, annot=True, fmt='d', cmap='Blues', cbar=True)\n",
    "plt.title(f'All Waveforms KMeans - Accuracy {accuracy:.2f}')\n",
    "plt.xlabel('Predicted Cluster')\n",
    "plt.ylabel('True Label')\n",
    "\n",
    "file_path = os.path.join('confusion_matrix', \"all_confusion_matrix_heatmap_aam.png\")\n",
    "\n",
    "plt.savefig(file_path, dpi=300)\n",
    "\n",
    "plt.show()"
   ]
  }
 ],
 "metadata": {
  "kernelspec": {
   "display_name": "Python 3 (ipykernel)",
   "language": "python",
   "name": "python3"
  },
  "language_info": {
   "codemirror_mode": {
    "name": "ipython",
    "version": 3
   },
   "file_extension": ".py",
   "mimetype": "text/x-python",
   "name": "python",
   "nbconvert_exporter": "python",
   "pygments_lexer": "ipython3",
   "version": "3.8.10"
  }
 },
 "nbformat": 4,
 "nbformat_minor": 5
}
