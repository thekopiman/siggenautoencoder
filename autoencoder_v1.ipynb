{
 "cells": [
  {
   "cell_type": "code",
   "execution_count": 1,
   "id": "c8359571-3809-40d2-8be9-1321f4feb7d3",
   "metadata": {
    "tags": []
   },
   "outputs": [],
   "source": [
    "from models.lstmautoencoder import LSTMAutoencoder\n",
    "from utils.loaders import SigGenDataset\n",
    "from utils.trainers import BaseTrainer\n",
    "import torch\n",
    "from torch.utils.data import DataLoader\n",
    "import numpy as np"
   ]
  },
  {
   "cell_type": "code",
   "execution_count": 2,
   "id": "7f8a25b2-baf6-4107-a8e8-e20dfa79b15f",
   "metadata": {
    "tags": []
   },
   "outputs": [],
   "source": [
    "ds_name = 'DS0151'\n",
    "\n",
    "model = LSTMAutoencoder(input_dim=1,latent_dim=128, num_layers=4, seq_length=5000).to(\"cuda\")\n",
    "filepaths = [f'./SigGen/{ds_name}_G13000771.mat',\n",
    "             f'./SigGen/{ds_name}_G13000773.mat',\n",
    "             f'./SigGen/{ds_name}_G13000774.mat',\n",
    "             f'./SigGen/{ds_name}_G13000775.mat']\n",
    "dataset = SigGenDataset(filepaths)\n",
    "trainers = BaseTrainer(model)"
   ]
  },
  {
   "cell_type": "code",
   "execution_count": 4,
   "id": "21f59140-a618-4a97-ae84-22fbda7e877c",
   "metadata": {
    "tags": []
   },
   "outputs": [
    {
     "data": {
      "text/plain": [
       "==========================================================================================\n",
       "Layer (type:depth-idx)                   Output Shape              Param #\n",
       "==========================================================================================\n",
       "LSTMAutoencoder                          [10, 5000, 1]             --\n",
       "├─BatchNorm1d: 1-1                       [10, 5000, 1]             10,000\n",
       "├─LSTM: 1-2                              [10, 5000, 128]           463,360\n",
       "├─BatchNorm1d: 1-3                       [10, 128]                 256\n",
       "├─LSTM: 1-4                              [10, 5000, 1]             572\n",
       "├─BatchNorm1d: 1-5                       [10, 5000, 1]             10,000\n",
       "==========================================================================================\n",
       "Total params: 484,188\n",
       "Trainable params: 484,188\n",
       "Non-trainable params: 0\n",
       "Total mult-adds (G): 23.20\n",
       "==========================================================================================\n",
       "Input size (MB): 0.20\n",
       "Forward/backward pass size (MB): 52.41\n",
       "Params size (MB): 1.94\n",
       "Estimated Total Size (MB): 54.55\n",
       "=========================================================================================="
      ]
     },
     "execution_count": 4,
     "metadata": {},
     "output_type": "execute_result"
    }
   ],
   "source": [
    "from torchinfo import summary\n",
    "\n",
    "summary(model, (10, 5000, 1))"
   ]
  },
  {
   "cell_type": "code",
   "execution_count": 3,
   "id": "74ead355-2fe1-43b0-bbc2-7ee892b8b6ae",
   "metadata": {
    "tags": []
   },
   "outputs": [
    {
     "data": {
      "text/plain": [
       "<All keys matched successfully>"
      ]
     },
     "execution_count": 3,
     "metadata": {},
     "output_type": "execute_result"
    }
   ],
   "source": [
    "model.load_state_dict(torch.load(f\"{ds_name}_weights.pt\"))\n",
    "# model = trainers._train(train_loader = dataset, num_epochs = 10, loss_function=torch.nn.MSELoss())"
   ]
  },
  {
   "cell_type": "code",
   "execution_count": 4,
   "id": "26ac35f2-d662-4273-ba1e-583d00d053d7",
   "metadata": {
    "tags": []
   },
   "outputs": [],
   "source": [
    "torch.save(model.state_dict(), f\"{ds_name}_weights.pt\")"
   ]
  },
  {
   "cell_type": "code",
   "execution_count": 5,
   "id": "57eba5a7-f459-41ed-9395-4597d4301d99",
   "metadata": {
    "tags": []
   },
   "outputs": [
    {
     "name": "stdout",
     "output_type": "stream",
     "text": [
      "Time : 5.115182306966744\n",
      "=============================\n"
     ]
    }
   ],
   "source": [
    "latent, target = trainers.extract_latent(dataset)"
   ]
  },
  {
   "cell_type": "code",
   "execution_count": 6,
   "id": "69866b81-2718-4e3c-b4db-11a04b2148e1",
   "metadata": {
    "tags": []
   },
   "outputs": [
    {
     "name": "stderr",
     "output_type": "stream",
     "text": [
      "/usr/local/lib/python3.8/dist-packages/sklearn/cluster/_kmeans.py:870: FutureWarning: The default value of `n_init` will change from 10 to 'auto' in 1.4. Set the value of `n_init` explicitly to suppress the warning\n",
      "  warnings.warn(\n"
     ]
    },
    {
     "name": "stdout",
     "output_type": "stream",
     "text": [
      "Cluster Accuracy: 0.78\n"
     ]
    }
   ],
   "source": [
    "from sklearn.cluster import KMeans\n",
    "from sklearn.metrics import confusion_matrix, accuracy_score\n",
    "from sklearn.datasets import make_classification\n",
    "import pandas as pd\n",
    "\n",
    "# Load or create your dataset\n",
    "# Replace this with your actual data loading\n",
    "\n",
    "# Initialize and fit k-Means clustering\n",
    "n_clusters = 4\n",
    "kmeans = KMeans(n_clusters=n_clusters, random_state=42)\n",
    "clusters = kmeans.fit_predict(latent)\n",
    "\n",
    "# Create a confusion matrix to evaluate clustering performance\n",
    "# We need to compute a mapping between cluster labels and true labels\n",
    "# First, create a confusion matrix to find out how clusters are mapped to true labels\n",
    "conf_matrix = confusion_matrix(target, clusters)\n",
    "\n",
    "# Find the optimal permutation of cluster labels to match true labels\n",
    "from scipy.optimize import linear_sum_assignment\n",
    "\n",
    "# Solve the linear sum assignment problem\n",
    "row_ind, col_ind = linear_sum_assignment(-conf_matrix)\n",
    "\n",
    "# Re-map clusters to the true labels\n",
    "cluster_to_label = dict(zip(col_ind, row_ind))\n",
    "\n",
    "# Map clusters to labels\n",
    "y_pred_mapped = np.array([cluster_to_label[cluster] for cluster in clusters])\n",
    "\n",
    "# Compute accuracy\n",
    "accuracy = accuracy_score(target, y_pred_mapped)\n",
    "print(f\"Cluster Accuracy: {accuracy:.2f}\")\n"
   ]
  },
  {
   "cell_type": "code",
   "execution_count": 7,
   "id": "6e41df98-0ed9-41c9-a4bb-fed436ed3418",
   "metadata": {
    "tags": []
   },
   "outputs": [
    {
     "data": {
      "image/png": "[encoded data removed]",
      "text/plain": [
       "<Figure size 1000x700 with 2 Axes>"
      ]
     },
     "metadata": {},
     "output_type": "display_data"
    }
   ],
   "source": [
    "import pandas as pd\n",
    "import matplotlib.pyplot as plt\n",
    "import seaborn as sns\n",
    "import os\n",
    "# Create a DataFrame for the confusion matrix\n",
    "conf_matrix_df = pd.DataFrame(conf_matrix, \n",
    "                              index=[f'True_{i}' for i in range(conf_matrix.shape[0])],\n",
    "                              columns=[f'Cluster_{i}' for i in range(conf_matrix.shape[1])])\n",
    "\n",
    "\n",
    "# Plot the confusion matrix using a heatmap\n",
    "plt.figure(figsize=(10, 7))\n",
    "sns.heatmap(conf_matrix_df, annot=True, fmt='d', cmap='Blues', cbar=True)\n",
    "plt.title(f'{ds_name} KMeans - Accuracy {accuracy:.2f}')\n",
    "plt.xlabel('Predicted Cluster')\n",
    "plt.ylabel('True Label')\n",
    "\n",
    "file_path = os.path.join('confusion_matrix', f\"{ds_name}_confusion_matrix_heatmap.png\")\n",
    "\n",
    "plt.savefig(file_path, dpi=300)\n",
    "\n",
    "plt.show()"
   ]
  },
  {
   "cell_type": "code",
   "execution_count": null,
   "id": "47695342-17c3-4198-bfe7-91bf418331d9",
   "metadata": {},
   "outputs": [],
   "source": []
  }
 ],
 "metadata": {
  "kernelspec": {
   "display_name": "Python 3 (ipykernel)",
   "language": "python",
   "name": "python3"
  },
  "language_info": {
   "codemirror_mode": {
    "name": "ipython",
    "version": 3
   },
   "file_extension": ".py",
   "mimetype": "text/x-python",
   "name": "python",
   "nbconvert_exporter": "python",
   "pygments_lexer": "ipython3",
   "version": "3.8.10"
  }
 },
 "nbformat": 4,
 "nbformat_minor": 5
}
