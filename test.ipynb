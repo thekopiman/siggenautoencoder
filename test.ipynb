{
 "cells": [
  {
   "cell_type": "code",
   "execution_count": 22,
   "metadata": {},
   "outputs": [],
   "source": [
    "import torch\n",
    "import torch.nn.functional as F\n",
    "import torch.nn as nn\n",
    "\n",
    "\n",
    "class CNNAutoencoder(nn.Module):\n",
    "    \"\"\"LSTMAutoencoder\n",
    "\n",
    "    Ensure that the model is always batched.\n",
    "\n",
    "    Args:\n",
    "        nn (_type_): _description_\n",
    "    \"\"\"\n",
    "\n",
    "    def __init__(\n",
    "        self,\n",
    "        input_size,  # 2 for IQ\n",
    "        latent_dim,\n",
    "    ):\n",
    "        super().__init__()\n",
    "\n",
    "        self.encoder = nn.Sequential(\n",
    "            nn.Conv1d(input_size, 16, kernel_size=3, stride=2, padding=1),  # (batch_size, 16, sequence_length/2)\n",
    "            nn.ReLU(),\n",
    "            nn.Conv1d(16, 32, kernel_size=3, stride=2, padding=1),  # (batch_size, 32, sequence_length/4)\n",
    "            nn.ReLU(),\n",
    "            nn.Conv1d(32, latent_dim, kernel_size=3, stride=2, padding=1),  # (batch_size, latent_dim, sequence_length/8)\n",
    "            nn.ReLU()\n",
    "        )\n",
    "        self.decoder = nn.Sequential(\n",
    "            nn.ConvTranspose1d(latent_dim, 32, kernel_size=3, stride=2, padding=1, output_padding=1),  # (batch_size, 32, sequence_length/4)\n",
    "            nn.ReLU(),\n",
    "            nn.ConvTranspose1d(32, 16, kernel_size=3, stride=2, padding=1, output_padding=1),  # (batch_size, 16, sequence_length/2)\n",
    "            nn.ReLU(),\n",
    "            nn.ConvTranspose1d(16, input_size, kernel_size=3, stride=2, padding=1, output_padding=1),  # (batch_size, input_size, sequence_length)\n",
    "            nn.Sigmoid()\n",
    "        )\n",
    "\n",
    "    def forward(self, x):\n",
    "        latent = self.encoder(x)\n",
    "        output = self.decoder(latent)\n",
    "\n",
    "        # return output, latent\n",
    "        return output\n"
   ]
  },
  {
   "cell_type": "code",
   "execution_count": 24,
   "metadata": {},
   "outputs": [
    {
     "name": "stdout",
     "output_type": "stream",
     "text": [
      "----------------------------------------------------------------\n",
      "        Layer (type)               Output Shape         Param #\n",
      "================================================================\n",
      "            Conv1d-1               [-1, 16, 32]             112\n",
      "              ReLU-2               [-1, 16, 32]               0\n",
      "            Conv1d-3               [-1, 32, 16]           1,568\n",
      "              ReLU-4               [-1, 32, 16]               0\n",
      "            Conv1d-5                [-1, 64, 8]           6,208\n",
      "              ReLU-6                [-1, 64, 8]               0\n",
      "   ConvTranspose1d-7               [-1, 32, 16]           6,176\n",
      "              ReLU-8               [-1, 32, 16]               0\n",
      "   ConvTranspose1d-9               [-1, 16, 32]           1,552\n",
      "             ReLU-10               [-1, 16, 32]               0\n",
      "  ConvTranspose1d-11                [-1, 2, 64]              98\n",
      "          Sigmoid-12                [-1, 2, 64]               0\n",
      "================================================================\n",
      "Total params: 15,714\n",
      "Trainable params: 15,714\n",
      "Non-trainable params: 0\n",
      "----------------------------------------------------------------\n",
      "Input size (MB): 0.00\n",
      "Forward/backward pass size (MB): 0.04\n",
      "Params size (MB): 0.06\n",
      "Estimated Total Size (MB): 0.10\n",
      "----------------------------------------------------------------\n"
     ]
    }
   ],
   "source": [
    "from torchsummary import summary\n",
    "\n",
    "model = CNNAutoencoder(2, 64).to(\"cuda\")\n",
    "\n",
    "summary(model, (2,64))"
   ]
  },
  {
   "cell_type": "code",
   "execution_count": null,
   "metadata": {},
   "outputs": [],
   "source": []
  }
 ],
 "metadata": {
  "kernelspec": {
   "display_name": "pytorch",
   "language": "python",
   "name": "python3"
  },
  "language_info": {
   "codemirror_mode": {
    "name": "ipython",
    "version": 3
   },
   "file_extension": ".py",
   "mimetype": "text/x-python",
   "name": "python",
   "nbconvert_exporter": "python",
   "pygments_lexer": "ipython3",
   "version": "3.9.16"
  }
 },
 "nbformat": 4,
 "nbformat_minor": 2
}
