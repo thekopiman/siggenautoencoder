{
 "cells": [
  {
   "cell_type": "code",
   "execution_count": 1,
   "metadata": {},
   "outputs": [],
   "source": [
    "from models.lstmautoencoder import LSTMAutoencoder\n",
    "\n",
    "model = LSTMAutoencoder(input_dim=2,latent_dim=16, num_layers=4, seq_length=64)\n"
   ]
  },
  {
   "cell_type": "code",
   "execution_count": 3,
   "metadata": {},
   "outputs": [
    {
     "name": "stdout",
     "output_type": "stream",
     "text": [
      "torch.Size([32, 64, 2])\n",
      "torch.Size([32, 16])\n"
     ]
    }
   ],
   "source": [
    "import torch\n",
    "\n",
    "model.to(\"cuda\")\n",
    "\n",
    "input_feats = torch.randn((32,64,2)).to(\"cuda\") # Batch, Length, feats\n",
    "\n",
    "output, latent = model(input_feats)\n",
    "\n",
    "print(output.shape)\n",
    "print(latent.shape)"
   ]
  }
 ],
 "metadata": {
  "kernelspec": {
   "display_name": "pytorch",
   "language": "python",
   "name": "python3"
  },
  "language_info": {
   "codemirror_mode": {
    "name": "ipython",
    "version": 3
   },
   "file_extension": ".py",
   "mimetype": "text/x-python",
   "name": "python",
   "nbconvert_exporter": "python",
   "pygments_lexer": "ipython3",
   "version": "3.9.16"
  }
 },
 "nbformat": 4,
 "nbformat_minor": 2
}
