{
 "cells": [
  {
   "cell_type": "code",
   "execution_count": 1,
   "id": "c8359571-3809-40d2-8be9-1321f4feb7d3",
   "metadata": {
    "tags": []
   },
   "outputs": [],
   "source": [
    "from models.classification_lstm import LSTMEncoderDense\n",
    "from utils.loaders import SigGenDataset\n",
    "from utils.trainers import ClassicTrainer\n",
    "import torch\n",
    "from torch.utils.data import DataLoader\n",
    "import numpy as np\n",
    "import glob"
   ]
  },
  {
   "cell_type": "code",
   "execution_count": 2,
   "id": "7f8a25b2-baf6-4107-a8e8-e20dfa79b15f",
   "metadata": {
    "tags": []
   },
   "outputs": [],
   "source": [
    "files = []\n",
    "for file in glob.glob(\"SigGen/*.mat\"):\n",
    "    files.append(str(file))\n",
    "    \n",
    "model = LSTMEncoderDense(input_dim=1,latent_dim=128, num_layers=4, no_cls=4).to(\"cuda\")\n",
    "\n",
    "files.sort()\n",
    "\n",
    "files = files[:8]\n",
    "\n",
    "dataset_train = SigGenDataset(files, phase = \"train\")\n",
    "dataset_test = SigGenDataset(files, phase = \"test\")\n",
    "\n",
    "trainers = ClassicTrainer(model)"
   ]
  },
  {
   "cell_type": "code",
   "execution_count": 3,
   "id": "74ead355-2fe1-43b0-bbc2-7ee892b8b6ae",
   "metadata": {
    "tags": []
   },
   "outputs": [
    {
     "name": "stdout",
     "output_type": "stream",
     "text": [
      "Epoch: 0/9\n",
      "-----------------------------\n",
      "Loss avg: 1.2667542081326246\n",
      "Time : 16.585094895912334\n",
      "=============================\n",
      "Epoch: 1/9\n",
      "-----------------------------\n",
      "Loss avg: 1.076006067916751\n",
      "Time : 16.603858693037182\n",
      "=============================\n",
      "Epoch: 2/9\n",
      "-----------------------------\n",
      "Loss avg: 0.5653293118812144\n",
      "Time : 16.511407159967348\n",
      "=============================\n",
      "Epoch: 3/9\n",
      "-----------------------------\n",
      "Loss avg: 0.4200523305917159\n",
      "Time : 16.32154397701379\n",
      "=============================\n",
      "Epoch: 4/9\n",
      "-----------------------------\n",
      "Loss avg: 0.2925028173485771\n",
      "Time : 16.156514166970737\n",
      "=============================\n",
      "Epoch: 5/9\n",
      "-----------------------------\n",
      "Loss avg: 0.31156555039342493\n",
      "Time : 16.335802724934183\n",
      "=============================\n",
      "Epoch: 6/9\n",
      "-----------------------------\n",
      "Loss avg: 0.6221955028595403\n",
      "Time : 16.37525124696549\n",
      "=============================\n",
      "Epoch: 7/9\n",
      "-----------------------------\n",
      "Loss avg: 0.33800667943432927\n",
      "Time : 16.376907480997033\n",
      "=============================\n",
      "Epoch: 8/9\n",
      "-----------------------------\n",
      "Loss avg: 0.2970712600508705\n",
      "Time : 16.364260851987638\n",
      "=============================\n",
      "Epoch: 9/9\n",
      "-----------------------------\n",
      "Loss avg: 0.3059178205439821\n",
      "Time : 16.393377932021394\n",
      "=============================\n"
     ]
    }
   ],
   "source": [
    "# model.load_state_dict(torch.load(\"all_waveforms_classification_weights.pt\"))\n",
    "model = trainers._train(train_loader = dataset_train, num_epochs = 10, loss_function=torch.nn.CrossEntropyLoss())"
   ]
  },
  {
   "cell_type": "code",
   "execution_count": 4,
   "id": "26ac35f2-d662-4273-ba1e-583d00d053d7",
   "metadata": {
    "tags": []
   },
   "outputs": [],
   "source": [
    "# torch.save(model.state_dict(), \"all_waveforms_classification_weights.pt\")"
   ]
  },
  {
   "cell_type": "code",
   "execution_count": null,
   "id": "47695342-17c3-4198-bfe7-91bf418331d9",
   "metadata": {},
   "outputs": [],
   "source": [
    "trainers._test(test_loader = dataset_train, loss_function=torch.nn.CrossEntropyLoss())"
   ]
  }
 ],
 "metadata": {
  "kernelspec": {
   "display_name": "Python 3 (ipykernel)",
   "language": "python",
   "name": "python3"
  },
  "language_info": {
   "codemirror_mode": {
    "name": "ipython",
    "version": 3
   },
   "file_extension": ".py",
   "mimetype": "text/x-python",
   "name": "python",
   "nbconvert_exporter": "python",
   "pygments_lexer": "ipython3",
   "version": "3.8.10"
  }
 },
 "nbformat": 4,
 "nbformat_minor": 5
}
